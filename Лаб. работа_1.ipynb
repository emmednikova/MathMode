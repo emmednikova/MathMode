{
 "cells": [
  {
   "cell_type": "markdown",
   "id": "95b00471",
   "metadata": {},
   "source": [
    "## Лабораторная работа №1"
   ]
  },
  {
   "cell_type": "markdown",
   "id": "0ff8d4dc",
   "metadata": {},
   "source": [
    "##### Задача 1: Проведите анализ скорости работы всех рассмотренных алгоритмов  поиска на массиве, состоящем из 100 случайных значений (значения от 1 до 1000).  В качестве искомого возьмите элемент, индекс которого будет 5. "
   ]
  },
  {
   "cell_type": "code",
   "execution_count": 19,
   "id": "2eb78084",
   "metadata": {},
   "outputs": [],
   "source": [
    "import numpy as np\n",
    "import time\n",
    "import matplotlib.pyplot as plt"
   ]
  },
  {
   "cell_type": "markdown",
   "id": "8a89a388",
   "metadata": {},
   "source": [
    "Алгоритмы поиска"
   ]
  },
  {
   "cell_type": "code",
   "execution_count": 41,
   "id": "a92c09af",
   "metadata": {},
   "outputs": [],
   "source": [
    "# Функция линейного поиска\n",
    "def linear_search(arr, target):\n",
    "    for i in range(len(arr)):\n",
    "        if arr[i] == target:\n",
    "            return i\n",
    "    return -1\n",
    "\n",
    "# Функция бинарного поиска\n",
    "def binary_search(arr, target):\n",
    "    low = 0\n",
    "    high = len(arr) - 1\n",
    "    while low <= high:\n",
    "        mid = (low + high) // 2\n",
    "        if arr[mid] == target:\n",
    "            return mid\n",
    "        elif arr[mid] < target:\n",
    "            low = mid + 1\n",
    "        else:\n",
    "            high = mid - 1\n",
    "    return -1\n",
    "\n",
    "# Функция jump search\n",
    "def jump_search(arr, target):\n",
    "    n = len(arr)\n",
    "    step = int(np.sqrt(n))\n",
    "    prev = 0\n",
    "    while arr[min(step, n)-1] < target:\n",
    "        prev = step\n",
    "        step += int(np.sqrt(n))\n",
    "        if prev >= n:\n",
    "            return -1\n",
    "    for i in range(prev, min(step, n)):\n",
    "        if arr[i] == target:\n",
    "            return i\n",
    "    return -1\n",
    "\n",
    "# Функция поиска Фибоначчи\n",
    "def fibonacci_search(arr, target):\n",
    "    fibonacci_numbers = [0, 1]\n",
    "    while fibonacci_numbers[-1] < len(arr):\n",
    "        fibonacci_numbers.append(fibonacci_numbers[-1] + fibonacci_numbers[-2])\n",
    "    offset = 0\n",
    "    index = -1\n",
    "    while fibonacci_numbers:\n",
    "        fib = fibonacci_numbers.pop()\n",
    "        new_index = offset + fib\n",
    "        if new_index >= len(arr):\n",
    "            continue\n",
    "        if arr[new_index] == target:\n",
    "            index = new_index\n",
    "            break\n",
    "        elif arr[new_index] < target:\n",
    "            offset += fib\n",
    "    return index\n",
    "\n",
    "# Функция экспоненциального поиска\n",
    "def exponential_search(arr, target):\n",
    "    n = len(arr)\n",
    "    if arr[0] == target:\n",
    "        return 0\n",
    "    i = 1\n",
    "    while i < n and arr[i] <= target:\n",
    "        i *= 2\n",
    "    return binary_search(arr[:min(i, n)], target)\n",
    "\n",
    "# Функция интерполяционного поиска\n",
    "def interpolation_search(arr, target):\n",
    "    low = 0\n",
    "    high = len(arr) - 1\n",
    "    while low <= high and target >= arr[low] and target <= arr[high]:\n",
    "        pos = int(low + (high - low) / (arr[high] - arr[low]) * (target - arr[low]))\n",
    "        if arr[pos] == target:\n",
    "            return pos\n",
    "        if arr[pos] < target:\n",
    "            low = pos + 1\n",
    "        else:\n",
    "            high = pos - 1\n",
    "    return -1"
   ]
  },
  {
   "cell_type": "markdown",
   "id": "eab4aec8",
   "metadata": {},
   "source": [
    "Создание массива из 100 случайных значений от 1 до 1000 и его сортировка "
   ]
  },
  {
   "cell_type": "code",
   "execution_count": 34,
   "id": "0d9c1bb5",
   "metadata": {},
   "outputs": [],
   "source": [
    "arr = np.random.randint(1, 1001, 100)\n",
    "arr.sort()"
   ]
  },
  {
   "cell_type": "markdown",
   "id": "e19804c8",
   "metadata": {},
   "source": [
    "Проведение анализа скорости работы алгоритмов поиска для индекса 5"
   ]
  },
  {
   "cell_type": "code",
   "execution_count": 35,
   "id": "2b57eac0",
   "metadata": {},
   "outputs": [
    {
     "name": "stdout",
     "output_type": "stream",
     "text": [
      "1.95 µs ± 110 ns per loop (mean ± std. dev. of 7 runs, 100000 loops each)\n"
     ]
    }
   ],
   "source": [
    "%%timeit\n",
    "\n",
    "result_1 = linear_search(arr, arr[5])"
   ]
  },
  {
   "cell_type": "code",
   "execution_count": 36,
   "id": "727fc1fc",
   "metadata": {},
   "outputs": [
    {
     "name": "stdout",
     "output_type": "stream",
     "text": [
      "2.4 µs ± 379 ns per loop (mean ± std. dev. of 7 runs, 100000 loops each)\n"
     ]
    }
   ],
   "source": [
    "%%timeit\n",
    "\n",
    "result_2 = binary_search(arr, arr[5])"
   ]
  },
  {
   "cell_type": "code",
   "execution_count": 37,
   "id": "5f2ca4f3",
   "metadata": {},
   "outputs": [
    {
     "name": "stdout",
     "output_type": "stream",
     "text": [
      "4.87 µs ± 213 ns per loop (mean ± std. dev. of 7 runs, 100000 loops each)\n"
     ]
    }
   ],
   "source": [
    "%%timeit\n",
    "\n",
    "result_3 = jump_search(arr, arr[5])"
   ]
  },
  {
   "cell_type": "code",
   "execution_count": 42,
   "id": "2636a7fe",
   "metadata": {},
   "outputs": [
    {
     "name": "stdout",
     "output_type": "stream",
     "text": [
      "9.77 µs ± 683 ns per loop (mean ± std. dev. of 7 runs, 100000 loops each)\n"
     ]
    }
   ],
   "source": [
    "%%timeit\n",
    "\n",
    "result_4 = fibonacci_search(arr, arr[5])"
   ]
  },
  {
   "cell_type": "code",
   "execution_count": 39,
   "id": "9059ed9b",
   "metadata": {},
   "outputs": [
    {
     "name": "stdout",
     "output_type": "stream",
     "text": [
      "3.8 µs ± 105 ns per loop (mean ± std. dev. of 7 runs, 100000 loops each)\n"
     ]
    }
   ],
   "source": [
    "%%timeit\n",
    "\n",
    "result_5 = exponential_search(arr, arr[5])"
   ]
  },
  {
   "cell_type": "code",
   "execution_count": 40,
   "id": "0f673dc8",
   "metadata": {},
   "outputs": [
    {
     "name": "stdout",
     "output_type": "stream",
     "text": [
      "7.76 µs ± 239 ns per loop (mean ± std. dev. of 7 runs, 100000 loops each)\n"
     ]
    }
   ],
   "source": [
    "%%timeit\n",
    "\n",
    "result_6 = interpolation_search(arr, arr[5])"
   ]
  },
  {
   "cell_type": "markdown",
   "id": "04d10d13",
   "metadata": {},
   "source": [
    "##### Задание 2: Проведите анализ скорости работы всех рассмотренных алгоритмов  поиска на массиве, состоящем из 100 случайных значений (значения от 1 до 1000). В качестве искомого возьмите элемент, индекс которого будет 95.\n",
    "\n"
   ]
  },
  {
   "cell_type": "markdown",
   "id": "c64529fb",
   "metadata": {},
   "source": [
    "Проведение анализа скорости работы алгоритмов поиска для индекса 95"
   ]
  },
  {
   "cell_type": "code",
   "execution_count": 48,
   "id": "8099a114",
   "metadata": {},
   "outputs": [
    {
     "name": "stdout",
     "output_type": "stream",
     "text": [
      "19.7 µs ± 939 ns per loop (mean ± std. dev. of 7 runs, 10000 loops each)\n"
     ]
    }
   ],
   "source": [
    "%%timeit\n",
    "\n",
    "result_1 = linear_search(arr, arr[95])"
   ]
  },
  {
   "cell_type": "code",
   "execution_count": 49,
   "id": "367bcd51",
   "metadata": {},
   "outputs": [
    {
     "name": "stdout",
     "output_type": "stream",
     "text": [
      "4.37 µs ± 347 ns per loop (mean ± std. dev. of 7 runs, 100000 loops each)\n"
     ]
    }
   ],
   "source": [
    "%%timeit\n",
    "\n",
    "result_2 = binary_search(arr, arr[95])"
   ]
  },
  {
   "cell_type": "code",
   "execution_count": 50,
   "id": "e8a043b1",
   "metadata": {},
   "outputs": [
    {
     "name": "stdout",
     "output_type": "stream",
     "text": [
      "26.7 µs ± 958 ns per loop (mean ± std. dev. of 7 runs, 10000 loops each)\n"
     ]
    }
   ],
   "source": [
    "%%timeit\n",
    "\n",
    "result_3 = jump_search(arr, arr[95])"
   ]
  },
  {
   "cell_type": "code",
   "execution_count": 51,
   "id": "15e9d530",
   "metadata": {},
   "outputs": [
    {
     "name": "stdout",
     "output_type": "stream",
     "text": [
      "9.15 µs ± 809 ns per loop (mean ± std. dev. of 7 runs, 100000 loops each)\n"
     ]
    }
   ],
   "source": [
    "%%timeit\n",
    "\n",
    "result_4 = fibonacci_search(arr, arr[95])"
   ]
  },
  {
   "cell_type": "code",
   "execution_count": 52,
   "id": "6f773e75",
   "metadata": {},
   "outputs": [
    {
     "name": "stdout",
     "output_type": "stream",
     "text": [
      "8.76 µs ± 1.26 µs per loop (mean ± std. dev. of 7 runs, 100000 loops each)\n"
     ]
    }
   ],
   "source": [
    "%%timeit\n",
    "\n",
    "result_5 = exponential_search(arr, arr[95])"
   ]
  },
  {
   "cell_type": "code",
   "execution_count": 53,
   "id": "f2ada587",
   "metadata": {},
   "outputs": [
    {
     "name": "stdout",
     "output_type": "stream",
     "text": [
      "5.26 µs ± 346 ns per loop (mean ± std. dev. of 7 runs, 100000 loops each)\n"
     ]
    }
   ],
   "source": [
    "%%timeit\n",
    "\n",
    "result_6 = interpolation_search(arr, arr[95])"
   ]
  },
  {
   "cell_type": "markdown",
   "id": "045f7f9b",
   "metadata": {},
   "source": [
    "##### Задание 3: Сделайте выводы по скорости работы алгоритмов поиска в разных условиях из 1 и 2 задач. Постройте 2 графика сравнения этих скоростей."
   ]
  },
  {
   "cell_type": "markdown",
   "id": "b8884247",
   "metadata": {},
   "source": [
    "Построение двух графиков сравнения скоростей"
   ]
  },
  {
   "cell_type": "code",
   "execution_count": 58,
   "id": "c74844a7",
   "metadata": {},
   "outputs": [
    {
     "data": {
      "image/png": "[encoded data removed]",
      "text/plain": [
       "<Figure size 576x432 with 1 Axes>"
      ]
     },
     "metadata": {
      "needs_background": "light"
     },
     "output_type": "display_data"
    },
    {
     "data": {
      "image/png": "[encoded data removed]",
      "text/plain": [
       "<Figure size 576x432 with 1 Axes>"
      ]
     },
     "metadata": {
      "needs_background": "light"
     },
     "output_type": "display_data"
    }
   ],
   "source": [
    "time_dict1 = {'linear':1.95,\n",
    "              'binary':2.4,\n",
    "              'jump':4.87,\n",
    "              'fibonacci':9.77,\n",
    "              'exponential':3.8,\n",
    "              'interpolation':7.76}\n",
    "\n",
    "plt.figure(figsize=(8,6))\n",
    "plt.bar(time_dict1.keys(), time_dict1.values())\n",
    "plt.show()\n",
    "\n",
    "time_dict2 = {'linear':19.7,\n",
    "              'binary':4.37,\n",
    "              'jump':26.7,\n",
    "              'fibonacci':9.15,\n",
    "              'exponential':8.76,\n",
    "              'interpolation':5.26}\n",
    "\n",
    "plt.figure(figsize=(8,6))\n",
    "plt.bar(time_dict2.keys(), time_dict2.values())\n",
    "plt.show()"
   ]
  },
  {
   "cell_type": "markdown",
   "id": "85eb3c27",
   "metadata": {},
   "source": [
    "Из анализа скорости работы алгоритмов поиска на массиве из 100 элементов можно сделать вывод, что разные алгоритмы имеют разную эффективность в зависимости от условий поиска (в каком месте находится искомый элемент). Например, для поиска элемента с индексом 5 наиболее эффективным оказался линейный поиск, а для поиска элемента с индексом 95 - бинарный поиск."
   ]
  },
  {
   "cell_type": "markdown",
   "id": "a035b4ca",
   "metadata": {},
   "source": [
    "##### Задание 4: Проведите анализ скорости работы всех рассмотренных алгоритмов сортировки на массиве, состоящем из 100 значений (значения массива должны быть последовательными от 1 до 100). "
   ]
  },
  {
   "cell_type": "markdown",
   "id": "31d3159f",
   "metadata": {},
   "source": [
    "Алгоритмы сортировки, анализ скорости работы алгоритмов"
   ]
  },
  {
   "cell_type": "code",
   "execution_count": 237,
   "id": "25f393bb",
   "metadata": {},
   "outputs": [
    {
     "name": "stdout",
     "output_type": "stream",
     "text": [
      "Время сортировки пузырьком: 0.7753804000003583\n",
      "Время быстрой сортировки: 0.29476619999877585\n",
      "Время сортировки слиянием: 0.3410855000001902\n",
      "Время сортировки выборкой: 0.6095580999990489\n",
      "Время сортировки вставками: 0.042271800000889925\n"
     ]
    }
   ],
   "source": [
    "import timeit\n",
    "\n",
    "# Генерация массива\n",
    "arr = list(range(1, 101))\n",
    "\n",
    "# Сортировка пузырьком\n",
    "def bubble_sort(arr):\n",
    "    n = len(arr)\n",
    "    for i in range(n):\n",
    "        for j in range(0, n-i-1):\n",
    "            if arr[j] > arr[j+1]:\n",
    "                arr[j], arr[j+1] = arr[j+1], arr[j]\n",
    "    return arr\n",
    "\n",
    "time_bubble = timeit.timeit('bubble_sort(arr.copy())', globals=globals(), number=1000)\n",
    "\n",
    "# Быстрая сортировка\n",
    "def quick_sort(arr):\n",
    "    if len(arr) <= 1:\n",
    "        return arr\n",
    "    pivot = arr[len(arr) // 2]\n",
    "    left = [x for x in arr if x < pivot]\n",
    "    middle = [x for x in arr if x == pivot]\n",
    "    right = [x for x in arr if x > pivot]\n",
    "    return quick_sort(left) + middle + quick_sort(right)\n",
    "\n",
    "time_quick = timeit.timeit('quick_sort(arr.copy())', globals=globals(), number=1000)\n",
    "\n",
    "# Сортировка слиянием\n",
    "def merge_sort(arr):\n",
    "    if len(arr) <= 1:\n",
    "        return arr\n",
    "    mid = len(arr) // 2\n",
    "    left = merge_sort(arr[:mid])\n",
    "    right = merge_sort(arr[mid:])\n",
    "    return merge(left, right)\n",
    "\n",
    "def merge(left, right):\n",
    "    result = []\n",
    "    i = j = 0\n",
    "    while i < len(left) and j < len(right):\n",
    "        if left[i] < right[j]:\n",
    "            result.append(left[i])\n",
    "            i += 1\n",
    "        else:\n",
    "            result.append(right[j])\n",
    "            j += 1\n",
    "    result += left[i:]\n",
    "    result += right[j:]\n",
    "    return result\n",
    "\n",
    "time_merge = timeit.timeit('merge_sort(arr.copy())', globals=globals(), number=1000)\n",
    "\n",
    "# Функция сортировки выборкой\n",
    "def selection_sort(arr):\n",
    "    n = len(arr)\n",
    "    for i in range(n):\n",
    "        min_idx = i\n",
    "        for j in range(i+1, n):\n",
    "            if arr[j] < arr[min_idx]:\n",
    "                min_idx = j\n",
    "        arr[i], arr[min_idx] = arr[min_idx], arr[i]\n",
    "    return arr\n",
    "\n",
    "time_selection = timeit.timeit('selection_sort(arr.copy())', globals=globals(), number=1000)\n",
    "\n",
    "# Функция сортировки вставками\n",
    "def insertion_sort(arr):\n",
    "    for i in range(1, len(arr)):\n",
    "        key = arr[i]\n",
    "        j = i - 1\n",
    "        while j >=0 and key < arr[j] :\n",
    "                arr[j + 1] = arr[j]\n",
    "                j -= 1\n",
    "        arr[j + 1] = key\n",
    "    return arr\n",
    "\n",
    "time_insertion = timeit.timeit('insertion_sort(arr.copy())', globals=globals(), number=1000)\n",
    "\n",
    "print(f'Время сортировки пузырьком: {time_bubble}')\n",
    "print(f'Время быстрой сортировки: {time_quick}')\n",
    "print(f'Время сортировки слиянием: {time_merge}')\n",
    "print(f'Время сортировки выборкой: {time_selection}')\n",
    "print(f'Время сортировки вставками: {time_insertion}')"
   ]
  },
  {
   "cell_type": "markdown",
   "id": "f9d6b3ff",
   "metadata": {},
   "source": [
    "##### Задание 5: Проведите анализ скорости работы всех рассмотренных алгоритмов сортировки на массиве, состоящем из 100 значений (значения массива должны иметь обратную последовательность от 100 до 1)."
   ]
  },
  {
   "cell_type": "code",
   "execution_count": 238,
   "id": "a8a051f1",
   "metadata": {},
   "outputs": [
    {
     "name": "stdout",
     "output_type": "stream",
     "text": [
      "Время сортировки пузырьком: 2.084938100000727\n",
      "Время быстрой сортировки: 0.2674213999998756\n",
      "Время сортировки слиянием: 0.39579000000048836\n",
      "Время сортировки выборкой: 0.8538193999993382\n",
      "Время сортировки вставками: 1.4581602000016574\n"
     ]
    }
   ],
   "source": [
    "# Генерация массива со значениями от 100 до 1\n",
    "array = list(range(100, 0, -1))\n",
    "\n",
    "# Сортировка пузырьком\n",
    "def bubble_sort(array):\n",
    "    n = len(array)\n",
    "    for i in range(n):\n",
    "        for j in range(0, n-i-1):\n",
    "            if array[j] > array[j+1]:\n",
    "                array[j], array[j+1] = array[j+1], array[j]\n",
    "    return array\n",
    "\n",
    "time_bubble1 = timeit.timeit('bubble_sort(array.copy())', globals=globals(), number=1000)\n",
    "\n",
    "# Быстрая сортировка\n",
    "def quick_sort(array):\n",
    "    if len(array) <= 1:\n",
    "        return array\n",
    "    pivot = array[len(array) // 2]\n",
    "    left = [x for x in array if x < pivot]\n",
    "    middle = [x for x in array if x == pivot]\n",
    "    right = [x for x in array if x > pivot]\n",
    "    return quick_sort(left) + middle + quick_sort(right)\n",
    "\n",
    "time_quick1 = timeit.timeit('quick_sort(array.copy())', globals=globals(), number=1000)\n",
    "\n",
    "# Сортировка слиянием\n",
    "def merge_sort(array):\n",
    "    if len(array) <= 1:\n",
    "        return array\n",
    "    mid = len(array) // 2\n",
    "    left = merge_sort(array[:mid])\n",
    "    right = merge_sort(array[mid:])\n",
    "    return merge(left, right)\n",
    "\n",
    "def merge(left, right):\n",
    "    result = []\n",
    "    i = j = 0\n",
    "    while i < len(left) and j < len(right):\n",
    "        if left[i] < right[j]:\n",
    "            result.append(left[i])\n",
    "            i += 1\n",
    "        else:\n",
    "            result.append(right[j])\n",
    "            j += 1\n",
    "    result += left[i:]\n",
    "    result += right[j:]\n",
    "    return result\n",
    "\n",
    "time_merge1 = timeit.timeit('merge_sort(array.copy())', globals=globals(), number=1000)\n",
    "\n",
    "# Функция сортировки выборкой\n",
    "def selection_sort(array):\n",
    "    n = len(array)\n",
    "    for i in range(n):\n",
    "        min_idx = i\n",
    "        for j in range(i+1, n):\n",
    "            if array[j] < array[min_idx]:\n",
    "                min_idx = j\n",
    "        array[i], array[min_idx] = array[min_idx], array[i]\n",
    "    return array\n",
    "\n",
    "time_selection1 = timeit.timeit('selection_sort(array.copy())', globals=globals(), number=1000)\n",
    "\n",
    "# Функция сортировки вставками\n",
    "def insertion_sort(array):\n",
    "    for i in range(1, len(array)):\n",
    "        key = array[i]\n",
    "        j = i - 1\n",
    "        while j >=0 and key < array[j] :\n",
    "                array[j + 1] = array[j]\n",
    "                j -= 1\n",
    "        array[j + 1] = key\n",
    "    return array\n",
    "\n",
    "time_insertion1 = timeit.timeit('insertion_sort(array.copy())', globals=globals(), number=1000)\n",
    "\n",
    "print(f'Время сортировки пузырьком: {time_bubble1}')\n",
    "print(f'Время быстрой сортировки: {time_quick1}')\n",
    "print(f'Время сортировки слиянием: {time_merge1}')\n",
    "print(f'Время сортировки выборкой: {time_selection1}')\n",
    "print(f'Время сортировки вставками: {time_insertion1}')"
   ]
  },
  {
   "cell_type": "markdown",
   "id": "9dce465e",
   "metadata": {},
   "source": [
    "##### Задание 6: Сделайте выводы по скорости работы алгоритмов сортировки в разных условиях из 4 и 5 задач. Постройте 2 графика сравнения этих скоростей.\n",
    "\n"
   ]
  },
  {
   "cell_type": "code",
   "execution_count": 240,
   "id": "04695dc8",
   "metadata": {},
   "outputs": [
    {
     "data": {
      "image/png": "[encoded data removed]",
      "text/plain": [
       "<Figure size 576x432 with 1 Axes>"
      ]
     },
     "metadata": {
      "needs_background": "light"
     },
     "output_type": "display_data"
    },
    {
     "data": {
      "image/png": "[encoded data removed]",
      "text/plain": [
       "<Figure size 576x432 with 1 Axes>"
      ]
     },
     "metadata": {
      "needs_background": "light"
     },
     "output_type": "display_data"
    }
   ],
   "source": [
    "# Построение графика скоростей всех алгоритмов\n",
    "plt.figure(figsize=(8,6))\n",
    "plt.bar(['Bubble', 'Quick', 'Merge', 'Selection', 'Insertion'], [time_bubble, time_quick, time_merge, time_selection, time_insertion])\n",
    "plt.ylabel('Время (с)')\n",
    "plt.title('Алгоритмы сортировки')\n",
    "plt.show()\n",
    "\n",
    "# Построение графика скоростей всех алгоритмов\n",
    "plt.figure(figsize=(8,6))\n",
    "plt.bar(['Bubble', 'Quick', 'Merge', 'Selection', 'Insertion'], [time_bubble1, time_quick1, time_merge1, time_selection1, time_insertion1])\n",
    "plt.ylabel('Время (с)')\n",
    "plt.title('Алгоритмы сортировки')\n",
    "plt.show()"
   ]
  },
  {
   "cell_type": "markdown",
   "id": "49daa708",
   "metadata": {},
   "source": [
    "Из анализа скорости работы алгоритмов сортировки на массиве из 100 значений можно сделать вывод, что разные алгоритмы имеют разную эффективность в зависимости от условий сортировки. Например, для сортировки массива, состоящего из последовательных 100 элементов, наиболее эффективным алгоритмом является сортировка вставками, а для массива с обратным порядком - быстрая. "
   ]
  },
  {
   "cell_type": "code",
   "execution_count": null,
   "id": "92c5662a",
   "metadata": {},
   "outputs": [],
   "source": []
  }
 ],
 "metadata": {
  "kernelspec": {
   "display_name": "Python 3 (ipykernel)",
   "language": "python",
   "name": "python3"
  },
  "language_info": {
   "codemirror_mode": {
    "name": "ipython",
    "version": 3
   },
   "file_extension": ".py",
   "mimetype": "text/x-python",
   "name": "python",
   "nbconvert_exporter": "python",
   "pygments_lexer": "ipython3",
   "version": "3.9.7"
  }
 },
 "nbformat": 4,
 "nbformat_minor": 5
}
