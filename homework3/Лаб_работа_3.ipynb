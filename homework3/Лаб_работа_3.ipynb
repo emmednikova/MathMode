{
 "cells": [
  {
   "cell_type": "markdown",
   "id": "a1181e9f",
   "metadata": {},
   "source": [
    "## Лабораторная работа №3"
   ]
  },
  {
   "cell_type": "markdown",
   "id": "9a4a5e5d",
   "metadata": {},
   "source": [
    "##### Задача 1: Создайте массив единиц размерностью 2x3x4."
   ]
  },
  {
   "cell_type": "code",
   "execution_count": 1,
   "id": "16c94b1b",
   "metadata": {},
   "outputs": [],
   "source": [
    "import numpy as np"
   ]
  },
  {
   "cell_type": "code",
   "execution_count": 2,
   "id": "6da51508",
   "metadata": {},
   "outputs": [
    {
     "data": {
      "text/plain": [
       "array([[[1, 1, 1, 1],\n",
       "        [1, 1, 1, 1],\n",
       "        [1, 1, 1, 1]],\n",
       "\n",
       "       [[1, 1, 1, 1],\n",
       "        [1, 1, 1, 1],\n",
       "        [1, 1, 1, 1]]])"
      ]
     },
     "execution_count": 2,
     "metadata": {},
     "output_type": "execute_result"
    }
   ],
   "source": [
    "# массив единиц размерностью 2х3х4\n",
    "np.ones((2, 3, 4), dtype=int)"
   ]
  },
  {
   "cell_type": "markdown",
   "id": "8e05d810",
   "metadata": {},
   "source": [
    "##### Задача 2: Создайте массив размерностью 8х8 и заполните его значениями 42."
   ]
  },
  {
   "cell_type": "code",
   "execution_count": 3,
   "id": "9d232f70",
   "metadata": {},
   "outputs": [
    {
     "data": {
      "text/plain": [
       "array([[42, 42, 42, 42, 42, 42, 42, 42],\n",
       "       [42, 42, 42, 42, 42, 42, 42, 42],\n",
       "       [42, 42, 42, 42, 42, 42, 42, 42],\n",
       "       [42, 42, 42, 42, 42, 42, 42, 42],\n",
       "       [42, 42, 42, 42, 42, 42, 42, 42],\n",
       "       [42, 42, 42, 42, 42, 42, 42, 42],\n",
       "       [42, 42, 42, 42, 42, 42, 42, 42],\n",
       "       [42, 42, 42, 42, 42, 42, 42, 42]])"
      ]
     },
     "execution_count": 3,
     "metadata": {},
     "output_type": "execute_result"
    }
   ],
   "source": [
    "# заполним массив размерностью 8х8 и заполним его значениями 42\n",
    "np.full((8,8), 42)"
   ]
  },
  {
   "cell_type": "markdown",
   "id": "bc4e5a96",
   "metadata": {},
   "source": [
    "##### Задача 3: Создайте массив случайных значений от 0 до 100 включительно, размерностью 1х8."
   ]
  },
  {
   "cell_type": "code",
   "execution_count": 4,
   "id": "8f71da0f",
   "metadata": {},
   "outputs": [
    {
     "data": {
      "text/plain": [
       "array([25, 97,  3, 17, 65, 28, 25, 24])"
      ]
     },
     "execution_count": 4,
     "metadata": {},
     "output_type": "execute_result"
    }
   ],
   "source": [
    "# массив размерностью 1х8 случайных целочисленных значений от 0 до 100 включительно\n",
    "np.random.randint(0,101,8)"
   ]
  },
  {
   "cell_type": "markdown",
   "id": "e2c24a68",
   "metadata": {},
   "source": [
    "##### Задача 4: Создайте массив нулей размерностью 2х3 и выполните его транспонирование."
   ]
  },
  {
   "cell_type": "code",
   "execution_count": 7,
   "id": "2d67b441",
   "metadata": {},
   "outputs": [
    {
     "name": "stdout",
     "output_type": "stream",
     "text": [
      "[[0. 0. 0.]\n",
      " [0. 0. 0.]]\n"
     ]
    }
   ],
   "source": [
    "# массив нулей размерностью 2х3 \n",
    "a = np.zeros((2,3))\n",
    "print(a)"
   ]
  },
  {
   "cell_type": "code",
   "execution_count": 8,
   "id": "1116ee1c",
   "metadata": {},
   "outputs": [
    {
     "name": "stdout",
     "output_type": "stream",
     "text": [
      "[[0. 0.]\n",
      " [0. 0.]\n",
      " [0. 0.]]\n"
     ]
    }
   ],
   "source": [
    "# транспонирование массива a\n",
    "b = a.transpose()\n",
    "print(b)"
   ]
  },
  {
   "cell_type": "markdown",
   "id": "ce631821",
   "metadata": {},
   "source": [
    "##### Задача 5: Создайте 2 массива единиц A и B размерностью 2х3 и сложите их."
   ]
  },
  {
   "cell_type": "code",
   "execution_count": 12,
   "id": "021cd776",
   "metadata": {},
   "outputs": [
    {
     "name": "stdout",
     "output_type": "stream",
     "text": [
      "[[1 1 1]\n",
      " [1 1 1]]\n"
     ]
    }
   ],
   "source": [
    "# массив A\n",
    "A = np.ones((2,3), dtype=int)\n",
    "print(A)"
   ]
  },
  {
   "cell_type": "code",
   "execution_count": 13,
   "id": "f9602e62",
   "metadata": {},
   "outputs": [
    {
     "name": "stdout",
     "output_type": "stream",
     "text": [
      "[[1 1 1]\n",
      " [1 1 1]]\n"
     ]
    }
   ],
   "source": [
    "# массив B\n",
    "B = np.ones((2,3), dtype=int)\n",
    "print(B)"
   ]
  },
  {
   "cell_type": "code",
   "execution_count": 14,
   "id": "cd893198",
   "metadata": {},
   "outputs": [
    {
     "name": "stdout",
     "output_type": "stream",
     "text": [
      "Сложение:\n",
      " [[2 2 2]\n",
      " [2 2 2]]\n",
      "\n"
     ]
    }
   ],
   "source": [
    "print('Сложение:\\n', A + B)\n",
    "print()"
   ]
  },
  {
   "cell_type": "markdown",
   "id": "42c8d318",
   "metadata": {},
   "source": [
    "##### Задача 6: Напишите функцию умножения трёх матриц (не пользуйтесь встроенными функциями такими как  np.dot(), @)\n"
   ]
  },
  {
   "cell_type": "code",
   "execution_count": 35,
   "id": "90620db0",
   "metadata": {},
   "outputs": [
    {
     "name": "stdout",
     "output_type": "stream",
     "text": [
      "\n",
      "[1714, 1836]\n",
      "[4117, 4410]\n",
      "Разница между максимальным и минимальным элементами матрицы: 2696\n"
     ]
    }
   ],
   "source": [
    "def matrix(matrix1, matrix2, matrix3):\n",
    "    result = []\n",
    "\n",
    "    # Проверка, можно ли умножать матрицы\n",
    "    if len(matrix1[0]) != len(matrix2):\n",
    "        print(\"Матрицы умножать нельзя\")\n",
    "        return None\n",
    "\n",
    "    for i in range(len(matrix1)):\n",
    "        row = []\n",
    "        for j in range(len(matrix3[0])):\n",
    "            sum = 0\n",
    "            for k in range(len(matrix2)):\n",
    "                sum += matrix1[i][k] * matrix2[k][j]\n",
    "            row.append(sum)\n",
    "        result.append(row)\n",
    "\n",
    "    final_result = []\n",
    "    for i in range(len(result)):\n",
    "        row = []\n",
    "        for j in range(len(matrix3[0])):\n",
    "            sum = 0\n",
    "            for k in range(len(matrix3)):\n",
    "                sum += result[i][k] * matrix3[k][j]\n",
    "            row.append(sum)\n",
    "        final_result.append(row)\n",
    "\n",
    "    return final_result\n",
    "\n",
    "def max_min(matrix):\n",
    "    flat_matrix = [item for sublist in matrix for item in sublist]\n",
    "    max_val = max(flat_matrix)\n",
    "    min_val = min(flat_matrix)\n",
    "    return max_val - min_val\n",
    "\n",
    "# Пример использования:\n",
    "matrix1 = [[1, 2, 3], [4, 5, 6]]\n",
    "matrix2 = [[7, 8], [9, 10], [11, 12]]\n",
    "matrix3 = [[13, 14], [15, 16]]\n",
    "result_matrix = matrix(matrix1, matrix2, matrix3)\n",
    "print()\n",
    "for row in result_matrix:\n",
    "    print(row)\n",
    "\n",
    "difference = max_min(result_matrix)\n",
    "print(\"Разница между максимальным и минимальным элементами матрицы:\", difference)"
   ]
  },
  {
   "cell_type": "markdown",
   "id": "f1b55e01",
   "metadata": {},
   "source": [
    "##### Задача 7: Напишите функцию, которая умножает матрицу на транспорированную матрицу (пользуйтесь встроенными функциями такими как np.dot(), @, T) получает обратную матрицу от результата."
   ]
  },
  {
   "cell_type": "code",
   "execution_count": 22,
   "id": "b58ef1b4",
   "metadata": {},
   "outputs": [],
   "source": [
    "def mul_inv(matrix):\n",
    "    transpose_matrix = np.array(matrix).T\n",
    "    result = np.dot(matrix, transpose_matrix)\n",
    "    inverse = np.linalg.inv(result)\n",
    "    \n",
    "    return inverse"
   ]
  },
  {
   "cell_type": "code",
   "execution_count": 23,
   "id": "9872f658",
   "metadata": {},
   "outputs": [
    {
     "name": "stdout",
     "output_type": "stream",
     "text": [
      "[[ 6.25 -2.75]\n",
      " [-2.75  1.25]]\n"
     ]
    }
   ],
   "source": [
    "matrix = np.array([[1, 2], [3, 4]])\n",
    "inverse = mul_inv(matrix)\n",
    "print(inverse)"
   ]
  },
  {
   "cell_type": "markdown",
   "id": "db173d54",
   "metadata": {},
   "source": [
    "##### Задача 8: Напишите и отобразите функцию y = x * x * x/12 + x * (x-15) - 72 на отрезке -10; 10"
   ]
  },
  {
   "cell_type": "code",
   "execution_count": 24,
   "id": "663ae227",
   "metadata": {},
   "outputs": [],
   "source": [
    "import matplotlib.pyplot as plt"
   ]
  },
  {
   "cell_type": "code",
   "execution_count": 29,
   "id": "58aa56c7",
   "metadata": {},
   "outputs": [
    {
     "data": {
      "image/png": "[encoded data removed]",
      "text/plain": [
       "<Figure size 720x432 with 1 Axes>"
      ]
     },
     "metadata": {
      "needs_background": "light"
     },
     "output_type": "display_data"
    }
   ],
   "source": [
    "# Создаём массив от -10 до 10\n",
    "x = np.arange(-10, 10)\n",
    "\n",
    "# Вычисляем функцию y\n",
    "y = x*x*x/12 + x*(x-15) - 72\n",
    "\n",
    "plt.figure(figsize=(10, 6))\n",
    "plt.grid(True)\n",
    "plt.plot(x,y)  # строим график\n",
    "plt.show()  # выводим на экран"
   ]
  },
  {
   "cell_type": "markdown",
   "id": "cb629b4b",
   "metadata": {},
   "source": [
    "##### Задача 9: Отобразите ту же функцию на отрезке -10; 10, но с шагом 0.1 по оси x"
   ]
  },
  {
   "cell_type": "code",
   "execution_count": 28,
   "id": "d322ac8c",
   "metadata": {},
   "outputs": [
    {
     "data": {
      "image/png": "[encoded data removed]",
      "text/plain": [
       "<Figure size 720x432 with 1 Axes>"
      ]
     },
     "metadata": {
      "needs_background": "light"
     },
     "output_type": "display_data"
    }
   ],
   "source": [
    "# Создаём массив от -10 до 10 с шагом 0.1\n",
    "x = np.arange(-10, 10, 0.1)\n",
    "\n",
    "# Вычисляем функцию y\n",
    "y = x*x*x/12 + x*(x-15) - 72\n",
    "\n",
    "#print(y)  # выведем значения функции y на экран\n",
    "plt.figure(figsize=(10, 6))\n",
    "plt.grid(True)\n",
    "plt.plot(x,y)  # строим график\n",
    "plt.show()  # выводим на экран"
   ]
  },
  {
   "cell_type": "code",
   "execution_count": null,
   "id": "f23f8e90",
   "metadata": {},
   "outputs": [],
   "source": []
  }
 ],
 "metadata": {
  "kernelspec": {
   "display_name": "Python 3 (ipykernel)",
   "language": "python",
   "name": "python3"
  },
  "language_info": {
   "codemirror_mode": {
    "name": "ipython",
    "version": 3
   },
   "file_extension": ".py",
   "mimetype": "text/x-python",
   "name": "python",
   "nbconvert_exporter": "python",
   "pygments_lexer": "ipython3",
   "version": "3.9.7"
  }
 },
 "nbformat": 4,
 "nbformat_minor": 5
}
