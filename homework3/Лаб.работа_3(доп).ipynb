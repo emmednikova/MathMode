{
 "cells": [
  {
   "cell_type": "markdown",
   "id": "8a5f1f27",
   "metadata": {},
   "source": [
    "## Лабораторная работа №3 (дополнительно)\n"
   ]
  },
  {
   "cell_type": "markdown",
   "id": "29e07e1d",
   "metadata": {},
   "source": [
    "### Часть 2"
   ]
  },
  {
   "cell_type": "markdown",
   "id": "23cc2c93",
   "metadata": {},
   "source": [
    "#####  Создайте массив единиц размерностью 5х2, с целочисленным типом данных."
   ]
  },
  {
   "cell_type": "code",
   "execution_count": 2,
   "id": "a9db7842",
   "metadata": {},
   "outputs": [],
   "source": [
    "import numpy as np"
   ]
  },
  {
   "cell_type": "code",
   "execution_count": 3,
   "id": "8149cea5",
   "metadata": {},
   "outputs": [
    {
     "data": {
      "text/plain": [
       "array([[1, 1],\n",
       "       [1, 1],\n",
       "       [1, 1],\n",
       "       [1, 1],\n",
       "       [1, 1]])"
      ]
     },
     "execution_count": 3,
     "metadata": {},
     "output_type": "execute_result"
    }
   ],
   "source": [
    "# массив (двумерный) единиц\n",
    "np.ones((5,2), dtype=int)"
   ]
  },
  {
   "cell_type": "markdown",
   "id": "d6d07ec2",
   "metadata": {},
   "source": [
    "##### Создайте 2 массива единиц A и B размерностью 2х3. Массив B транспонируйте. Выполните операцию матричного перемножения массивов A и B (транспонированный)."
   ]
  },
  {
   "cell_type": "code",
   "execution_count": 8,
   "id": "93cfafc9",
   "metadata": {},
   "outputs": [
    {
     "name": "stdout",
     "output_type": "stream",
     "text": [
      "Транспонированная матрица B:\n",
      " [[1. 1.]\n",
      " [1. 1.]\n",
      " [1. 1.]]\n",
      "Матричное умножение:\n",
      " [[3. 3.]\n",
      " [3. 3.]]\n"
     ]
    }
   ],
   "source": [
    "A = np.ones((2,3))\n",
    "B = np.ones((2,3)).T\n",
    "print('Транспонированная матрица B:\\n', B)\n",
    "print('Матричное умножение:\\n', A @ B)"
   ]
  },
  {
   "cell_type": "markdown",
   "id": "e5b47927",
   "metadata": {},
   "source": [
    "##### Создайте массив случайных значений от 0 до 10, размерностью 20. Используя логическую индексацию, выведите массив со значениями больше 5."
   ]
  },
  {
   "cell_type": "code",
   "execution_count": 9,
   "id": "22ec6574",
   "metadata": {},
   "outputs": [
    {
     "name": "stdout",
     "output_type": "stream",
     "text": [
      "[8 8 7 9 6 7 8 9]\n"
     ]
    }
   ],
   "source": [
    "# Создание массива случайных значений от 0 до 10 размерностью 20\n",
    "array = np.random.randint(0, 11, 20)\n",
    "\n",
    "# Логическая индексация для вывода значений больше 5\n",
    "result = array[array > 5]\n",
    "\n",
    "print(result)"
   ]
  },
  {
   "cell_type": "markdown",
   "id": "9e755f61",
   "metadata": {},
   "source": [
    "##### Создайте массив случайных значений от 0 до 10, размерностью 3х5. При помощи функции np.where() замените значения меньше 5 на 0 и значения больше или равно 5 на 1."
   ]
  },
  {
   "cell_type": "code",
   "execution_count": 10,
   "id": "1c4e3107",
   "metadata": {},
   "outputs": [
    {
     "name": "stdout",
     "output_type": "stream",
     "text": [
      "[[0 1 0 0 1]\n",
      " [1 1 0 0 0]\n",
      " [1 1 1 1 1]]\n"
     ]
    }
   ],
   "source": [
    "# Создание массива случайных значений от 0 до 10 размерностью 20\n",
    "arr = np.random.randint(0, 11, (3,5))\n",
    "\n",
    "# Замена значений меньше 5 на 0 и значений больше или равно 5 на 1\n",
    "res = np.where(arr < 5, 0, 1)\n",
    "\n",
    "print(res)"
   ]
  },
  {
   "cell_type": "markdown",
   "id": "84f1aa5b",
   "metadata": {},
   "source": [
    "##### Создайте массив единиц размерностью 4х3. Добавьте 1 ось в любое место массива."
   ]
  },
  {
   "cell_type": "code",
   "execution_count": 14,
   "id": "62b3623c",
   "metadata": {},
   "outputs": [
    {
     "data": {
      "text/plain": [
       "(4, 3)"
      ]
     },
     "execution_count": 14,
     "metadata": {},
     "output_type": "execute_result"
    }
   ],
   "source": [
    "# массив (двумерный) единиц\n",
    "a = np.ones((4,3), dtype=int)\n",
    "a.shape"
   ]
  },
  {
   "cell_type": "code",
   "execution_count": 16,
   "id": "b05e822b",
   "metadata": {},
   "outputs": [
    {
     "name": "stdout",
     "output_type": "stream",
     "text": [
      "[[[1]\n",
      "  [1]\n",
      "  [1]]\n",
      "\n",
      " [[1]\n",
      "  [1]\n",
      "  [1]]\n",
      "\n",
      " [[1]\n",
      "  [1]\n",
      "  [1]]\n",
      "\n",
      " [[1]\n",
      "  [1]\n",
      "  [1]]]\n"
     ]
    },
    {
     "data": {
      "text/plain": [
       "(1, 4, 3)"
      ]
     },
     "execution_count": 16,
     "metadata": {},
     "output_type": "execute_result"
    }
   ],
   "source": [
    "# добавим ось\n",
    "print(np.expand_dims(a, 2))\n",
    "# проверим размерность\n",
    "np.expand_dims(a, 0).shape"
   ]
  },
  {
   "cell_type": "markdown",
   "id": "fe695432",
   "metadata": {},
   "source": [
    "##### Напишите код, который вычисляет значение следующей математической функции в зависимости от переменной х, где х - вектор\n",
    "\n",
    "##### F(x)=125AATx+Bx+5 \n",
    "\n",
    "##### 1. Создайте матрицы A и B размера 4 на 4, состоящие из случайных целых чисел в интервале от 1 до 10 (используйте соответствующую функцию модуля np.random)\n",
    "##### 2.Создайте вектор х размера 4, состоящие из случайных целых чисел в интервале от 1 до 5\n",
    "##### 3. Перемножение матриц, и матрицы на вектор должно быть матричное."
   ]
  },
  {
   "cell_type": "code",
   "execution_count": 18,
   "id": "b1e41861",
   "metadata": {},
   "outputs": [
    {
     "name": "stdout",
     "output_type": "stream",
     "text": [
      "[177609 179536 180090 234870]\n"
     ]
    }
   ],
   "source": [
    "# Создание матриц A и B\n",
    "A = np.random.randint(1, 11, (4, 4))\n",
    "B = np.random.randint(1, 11, (4, 4))\n",
    "\n",
    "# Создание вектора x\n",
    "x = np.random.randint(1, 6, 4)\n",
    "\n",
    "# Вычисление значения функции F(x)\n",
    "F = 125 * np.dot(np.dot(A, A.T), x) + np.dot(B, x) + 5\n",
    "\n",
    "print(F)"
   ]
  },
  {
   "cell_type": "markdown",
   "id": "8698a87d",
   "metadata": {},
   "source": [
    "##### Напишите функцию, которая находит все точки пересечения заданной одномерной математической функции с осью X и отображает их на графике функции красными кругами.\n",
    "\n",
    "Функция\n",
    "def f3(x):\n",
    "  y = x*x*np.sin(x/300) + 300*x\n",
    "  return y"
   ]
  },
  {
   "cell_type": "code",
   "execution_count": 22,
   "id": "5d44f117",
   "metadata": {},
   "outputs": [
    {
     "data": {
      "image/png": "[encoded data removed]",
      "text/plain": [
       "<Figure size 432x288 with 1 Axes>"
      ]
     },
     "metadata": {
      "needs_background": "light"
     },
     "output_type": "display_data"
    }
   ],
   "source": [
    "import matplotlib.pyplot as plt\n",
    "\n",
    "# Функция\n",
    "def f3(x):\n",
    "    y = x*x*np.sin(x/300) + 300*x\n",
    "    return y\n",
    "\n",
    "# Нахождение точек пересечения с осью X\n",
    "def find(func):\n",
    "    inter = []\n",
    "    for i in range(len(x)-1):\n",
    "        if func(x[i])*func(x[i+1]) < 0:\n",
    "            root = (x[i] - x[i+1]) / (func(x[i]) - func(x[i+1])) * func(x[i]) + x[i]\n",
    "            inter.append(root)\n",
    "    return inter\n",
    "\n",
    "x = np.linspace(-1000, 1000, 1000)\n",
    "y = f3(x)\n",
    "\n",
    "inter = find(f3)\n",
    "\n",
    "plt.plot(x, y)\n",
    "plt.scatter(inter, [0]*len(inter), color='red', marker='o')\n",
    "plt.show()"
   ]
  },
  {
   "cell_type": "markdown",
   "id": "d749eb10",
   "metadata": {},
   "source": [
    "##### Напишите функцию, которая получает на вход пару матриц и проверяет закон коммутативности матричного умножения, то есть свойства  A∗B=B∗A , возвращая 1 в случае подтверждения и 0 в противном случае. Поставьте 1000 экспериментов для случайных целочисленных матриц размера (5,5) элементов, которые принадлежат отрезку [-5,5], и найдите количество успешных срабатываний."
   ]
  },
  {
   "cell_type": "code",
   "execution_count": 26,
   "id": "336d9a68",
   "metadata": {},
   "outputs": [],
   "source": [
    "# проверка коммутативности\n",
    "def commutativity(A, B):\n",
    "    result1 = np.dot(A, B)\n",
    "    result2 = np.dot(B, A)\n",
    "    \n",
    "    return np.array_equal(result1, result2)"
   ]
  },
  {
   "cell_type": "code",
   "execution_count": 27,
   "id": "978314d2",
   "metadata": {},
   "outputs": [
    {
     "name": "stdout",
     "output_type": "stream",
     "text": [
      "False\n",
      "Количество успешных срабатываний:  0\n"
     ]
    }
   ],
   "source": [
    "trials = 0\n",
    "num_trials = 1000\n",
    "\n",
    "for _ in range(num_trials):\n",
    "    A = np.random.randint(-5, 6, (5, 5))\n",
    "    B = np.random.randint(-5, 6, (5, 5))\n",
    "    \n",
    "    if commutativity(A, B):\n",
    "        trials += 1\n",
    "\n",
    "print(commutativity(A,B))\n",
    "print(\"Количество успешных срабатываний: \", trials)\n"
   ]
  },
  {
   "cell_type": "markdown",
   "id": "e6715f28",
   "metadata": {},
   "source": [
    "### Часть 3"
   ]
  },
  {
   "cell_type": "markdown",
   "id": "e5e73b96",
   "metadata": {},
   "source": [
    "##### Напишите функцию, которая находит две точки: где наклон графика функции самый крутой (в любую сторону), где наклон самый пологий, и отображает на графике функции эти точки зелёным и красным кругом соответственно."
   ]
  },
  {
   "cell_type": "code",
   "execution_count": 30,
   "id": "75ee10c0",
   "metadata": {},
   "outputs": [
    {
     "data": {
      "image/png": "[encoded data removed]",
      "text/plain": [
       "<Figure size 432x288 with 1 Axes>"
      ]
     },
     "metadata": {
      "needs_background": "light"
     },
     "output_type": "display_data"
    }
   ],
   "source": [
    "def points(func, x_range):\n",
    "    x = np.linspace(x_range[0], x_range[1], 1000)\n",
    "    y = func(x)\n",
    "    slopes = np.gradient(y, x)\n",
    "    max_slope = np.argmax(np.abs(slopes))\n",
    "    min_slope = np.argmin(np.abs(slopes))\n",
    "    \n",
    "    max_slope_point = (x[max_slope], y[max_slope])\n",
    "    min_slope_point = (x[min_slope], y[min_slope])\n",
    "    \n",
    "    plt.plot(x, y)\n",
    "    plt.scatter(max_slope_point[0], max_slope_point[1], color='green', s=100, edgecolors='black', zorder=5)\n",
    "    plt.scatter(min_slope_point[0], min_slope_point[1], color='red', s=100, edgecolors='black', zorder=5)\n",
    "    plt.show()\n",
    "\n",
    "# Пример функции \n",
    "def my_func(x):\n",
    "    return x**2 - 2*x + 2\n",
    "\n",
    "points(my_func, (-2, 3))"
   ]
  },
  {
   "cell_type": "markdown",
   "id": "0db96c22",
   "metadata": {},
   "source": [
    "##### Напишите функцию, которая находит все экстремумы двумерной функции z = sin(x) * sin(y) в диапазоне [x = -3.14, x = 3.14], [y = -3.14, y = 3.14], а также:\n",
    "\n",
    "##### a) Возвращает листы с координатами двумерных точек - 4 листа - локальный и глобальный минимум и максимум.\n",
    "\n",
    "##### b) Выводит график такой функции."
   ]
  },
  {
   "cell_type": "code",
   "execution_count": 34,
   "id": "47aad27f",
   "metadata": {},
   "outputs": [
    {
     "data": {
      "image/png": "[encoded data removed]",
      "text/plain": [
       "<Figure size 432x288 with 2 Axes>"
      ]
     },
     "metadata": {
      "needs_background": "light"
     },
     "output_type": "display_data"
    },
    {
     "data": {
      "text/plain": [
       "[array([0., 0.]),\n",
       " array([6.81894605e-06, 6.81894605e-06]),\n",
       " array([1.57079654, 1.57079654]),\n",
       " array([0., 0.])]"
      ]
     },
     "execution_count": 34,
     "metadata": {},
     "output_type": "execute_result"
    }
   ],
   "source": [
    "from scipy.optimize import minimize\n",
    "\n",
    "def func(xy):\n",
    "    x, y = xy\n",
    "    z = np.sin(x) * np.sin(y)\n",
    "    return z\n",
    "\n",
    "def extremums():\n",
    "    x = np.linspace(-3.14, 3.14, 100)\n",
    "    y = np.linspace(-3.14, 3.14, 100)\n",
    "    X, Y = np.meshgrid(x, y)\n",
    "    Z = func([X, Y])\n",
    "\n",
    "    min_global = minimize(func, [0, 0]).x\n",
    "    min_local = minimize(func, [-1, -1]).x\n",
    "    max_local = minimize(lambda xy: -func(xy), [1, 1]).x\n",
    "    max_global = minimize(lambda xy: -func(xy), [0, 0]).x\n",
    "\n",
    "    plt.figure()\n",
    "    plt.contourf(X, Y, Z, levels=20, cmap='RdGy')\n",
    "    plt.colorbar()\n",
    "    plt.scatter([min_global[0], min_local[0], max_local[0], max_global[0]], [min_global[1], min_local[1], max_local[1], max_global[1]], color='green', marker='o')\n",
    "    plt.title('Экстремумы sin(x) и sin(y)')\n",
    "    plt.xlabel('x')\n",
    "    plt.ylabel('y')\n",
    "    plt.show()\n",
    "\n",
    "    return [min_global, min_local, max_local, max_global]\n",
    "\n",
    "extremums()"
   ]
  }
 ],
 "metadata": {
  "kernelspec": {
   "display_name": "Python 3 (ipykernel)",
   "language": "python",
   "name": "python3"
  },
  "language_info": {
   "codemirror_mode": {
    "name": "ipython",
    "version": 3
   },
   "file_extension": ".py",
   "mimetype": "text/x-python",
   "name": "python",
   "nbconvert_exporter": "python",
   "pygments_lexer": "ipython3",
   "version": "3.9.7"
  }
 },
 "nbformat": 4,
 "nbformat_minor": 5
}
